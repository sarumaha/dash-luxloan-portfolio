{
 "cells": [
  {
   "cell_type": "code",
   "execution_count": 27,
   "metadata": {},
   "outputs": [],
   "source": [
    "import dash\n",
    "from dash import Dash, html, dcc\n",
    "import pandas as pd\n",
    "import numpy as np\n",
    "import plotly.express as px"
   ]
  },
  {
   "cell_type": "code",
   "execution_count": 28,
   "metadata": {},
   "outputs": [],
   "source": [
    "#Import dataset\n",
    "df = pd.read_csv('/Users/yogisharosarumaha/Documents/GitHub/dash-luxloan-portfolio/data/LuxuryLoanPortfolio.csv')\n",
    "\n",
    "#add remaining principal column\n",
    "df['pct_remaining_principal'] = round(df['loan balance'] / df['funded_amount'] * 100)"
   ]
  },
  {
   "cell_type": "code",
   "execution_count": 29,
   "metadata": {},
   "outputs": [],
   "source": [
    "#Create list of conditions\n",
    "conditions = [\n",
    "    (df['pct_remaining_principal'] <= 10),\n",
    "    (df['pct_remaining_principal'] <= 20),\n",
    "    (df['pct_remaining_principal'] <= 30),\n",
    "    (df['pct_remaining_principal'] <= 40),\n",
    "    (df['pct_remaining_principal'] <= 50),\n",
    "    (df['pct_remaining_principal'] <= 60),\n",
    "    (df['pct_remaining_principal'] <= 70),\n",
    "    (df['pct_remaining_principal'] <= 80),\n",
    "    (df['pct_remaining_principal'] <= 90),\n",
    "    (df['pct_remaining_principal'] > 90)\n",
    "]\n",
    "\n",
    "#list of values to assign conditions\n",
    "values = ['10%','20%','30%', '40%', '50%', '60%', '70%', '80%', '90%', '100%']\n",
    "\n",
    "#replace existing column\n",
    "df['pct_remaining_principal'] = np.select(conditions, values)"
   ]
  },
  {
   "cell_type": "code",
   "execution_count": 30,
   "metadata": {},
   "outputs": [],
   "source": [
    "#Figure for 1st metric\n",
    "fig1 = px.histogram(df, \n",
    "                        x = \"pct_remaining_principal\",\n",
    "                        title = \"Pct remaining principal\")\n",
    "                    \n",
    "fig1.update_xaxes(\n",
    "    categoryorder='array', \n",
    "    categoryarray= ['10%','20%','30%', '40%', '50%', '60%', '70%', '80%', '90%', '100%']\n",
    ")\n",
    "\n",
    "\n",
    "\n",
    "#Figure for 2nd metric\n",
    "fig2 = px.pie(df,\n",
    "                         values= \"funded_amount\", \n",
    "                         names= \"purpose\", \n",
    "                         title =\"Funded Amount by purpose\")\n",
    "\n",
    "#Figure for 3rd metric\n",
    "tbl = round(\n",
    "    pd.crosstab(index = df['employment length'], \n",
    "            columns = df['duration months'],\n",
    "            margins = True,\n",
    "            margins_name = \"proportion of loan months\",\n",
    "            normalize = 'index'\n",
    "           ) * 100 \n",
    "    , 1)\n",
    "\n",
    "import plotly.graph_objects as go\n",
    "\n",
    "# Data initiation for figure\n",
    "data = []\n",
    "# For loop for x axis to create barchart data\n",
    "for x in tbl.columns:\n",
    "   data.append(go.Bar(name=str(x), x=tbl.index, y=tbl[x]))\n",
    "\n",
    "fig3 = go.Figure(data)"
   ]
  },
  {
   "cell_type": "code",
   "execution_count": 31,
   "metadata": {},
   "outputs": [],
   "source": [
    "external_stylesheets = ['https://codepen.io/chriddyp/pen/bWLwgP.css']\n",
    "\n",
    "server = app.server\n",
    "\n",
    "# Create the Dash app\n",
    "app = Dash(__name__, external_stylesheets=external_stylesheets)\n",
    "\n",
    "app.layout = html.Div(children=[\n",
    "    # Chart element for top page\n",
    "    html.Div([\n",
    "        html.Div([\n",
    "            html.H1(children='Percentage Remaining Principal'),\n",
    "\n",
    "            html.Div(children='''\n",
    "                Metrics to check the health of portfolio, does the customer's payback ? \n",
    "            '''),\n",
    "\n",
    "            dcc.Graph(\n",
    "                id='graph1',\n",
    "                figure=fig1\n",
    "            ),  \n",
    "        ], className='six columns'),\n",
    "        html.Div([\n",
    "            html.H1(children='Funded Amount by Purpose'),\n",
    "\n",
    "            html.Div(children='''\n",
    "                Metrics to check if we have too many loans concentrated in one sector? \n",
    "If we’re putting the most egg in one basket, what happens if that sector suddenly decline? \n",
    "Can our company withstand the defaults? \n",
    "\n",
    "            '''),\n",
    "\n",
    "            dcc.Graph(\n",
    "                id='graph2',\n",
    "                figure=fig2\n",
    "            ),  \n",
    "        ], className='six columns'),\n",
    "    ], className='row'),\n",
    "    # Chart element for bottom page\n",
    "    html.Div([\n",
    "        html.H1(children='Employment Tenure and Loan Duration'),\n",
    "\n",
    "        html.Div(children='''\n",
    "            Metrics to check the distribution of customers employment length and loan duration\n",
    "        '''),\n",
    "\n",
    "        dcc.Graph(\n",
    "            id='graph3',\n",
    "            figure=fig3\n",
    "        ),  \n",
    "    ], className='row'),\n",
    "])"
   ]
  },
  {
   "cell_type": "code",
   "execution_count": 32,
   "metadata": {},
   "outputs": [
    {
     "name": "stdout",
     "output_type": "stream",
     "text": [
      "Dash is running on http://127.0.0.1:8050/\n",
      "\n",
      "Dash is running on http://127.0.0.1:8050/\n",
      "\n",
      "Dash is running on http://127.0.0.1:8050/\n",
      "\n",
      "Dash is running on http://127.0.0.1:8050/\n",
      "\n",
      " * Serving Flask app \"__main__\" (lazy loading)\n",
      " * Environment: production\n",
      "   WARNING: This is a development server. Do not use it in a production deployment.\n",
      "   Use a production WSGI server instead.\n",
      " * Debug mode: off\n"
     ]
    },
    {
     "name": "stderr",
     "output_type": "stream",
     "text": [
      " * Running on http://127.0.0.1:8050/ (Press CTRL+C to quit)\n",
      "127.0.0.1 - - [08/Aug/2022 19:21:14] \"\u001b[37mGET / HTTP/1.1\u001b[0m\" 200 -\n",
      "127.0.0.1 - - [08/Aug/2022 19:21:15] \"\u001b[37mGET /_dash-layout HTTP/1.1\u001b[0m\" 200 -\n",
      "127.0.0.1 - - [08/Aug/2022 19:21:15] \"\u001b[37mGET /_dash-dependencies HTTP/1.1\u001b[0m\" 200 -\n",
      "127.0.0.1 - - [08/Aug/2022 19:21:15] \"\u001b[37mGET /_dash-component-suites/dash/dcc/async-graph.js HTTP/1.1\u001b[0m\" 200 -\n",
      "127.0.0.1 - - [08/Aug/2022 19:21:15] \"\u001b[37mGET /_dash-component-suites/dash/dcc/async-plotlyjs.js HTTP/1.1\u001b[0m\" 200 -\n"
     ]
    }
   ],
   "source": [
    "#Run local server\n",
    "if __name__ == '__main__':\n",
    "    app.run_server(debug=False)"
   ]
  },
  {
   "cell_type": "code",
   "execution_count": null,
   "metadata": {},
   "outputs": [],
   "source": []
  }
 ],
 "metadata": {
  "kernelspec": {
   "display_name": "Python 3",
   "language": "python",
   "name": "python3"
  },
  "language_info": {
   "codemirror_mode": {
    "name": "ipython",
    "version": 3
   },
   "file_extension": ".py",
   "mimetype": "text/x-python",
   "name": "python",
   "nbconvert_exporter": "python",
   "pygments_lexer": "ipython3",
   "version": "3.7.6"
  }
 },
 "nbformat": 4,
 "nbformat_minor": 4
}
