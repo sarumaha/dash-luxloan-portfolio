{
 "cells": [
  {
   "cell_type": "code",
   "execution_count": 38,
   "metadata": {},
   "outputs": [],
   "source": [
    "import dash\n",
    "from dash import Dash, html, dcc\n",
    "import pandas as pd\n",
    "import numpy as np\n",
    "import plotly.express as px"
   ]
  },
  {
   "cell_type": "code",
   "execution_count": 5,
   "metadata": {},
   "outputs": [],
   "source": [
    "#Import dataset\n",
    "df = pd.read_csv('/Users/yogisharosarumaha/Documents/GitHub/dash-luxloan-portfolio/data/LuxuryLoanPortfolio.csv')"
   ]
  },
  {
   "cell_type": "code",
   "execution_count": 95,
   "metadata": {},
   "outputs": [],
   "source": [
    "external_stylesheets = ['https://codepen.io/chriddyp/pen/bWLwgP.css']\n",
    "\n",
    "# Create the Dash app\n",
    "app = Dash(__name__, external_stylesheets=external_stylesheets)"
   ]
  },
  {
   "cell_type": "code",
   "execution_count": 96,
   "metadata": {},
   "outputs": [],
   "source": [
    "server = app.server"
   ]
  },
  {
   "cell_type": "code",
   "execution_count": 163,
   "metadata": {},
   "outputs": [],
   "source": [
    "#Figure for 1st metric\n",
    "fig1 = px.histogram(df, \n",
    "                        x = \"pct_remaining_principal\",\n",
    "                        title = \"Pct remaining principal\")\n",
    "                    \n",
    "fig1.update_xaxes(\n",
    "    categoryorder='array', \n",
    "    categoryarray= ['10%','20%','30%', '40%', '50%', '60%', '70%', '80%', '90%', '100%']\n",
    ")\n",
    "\n",
    "\n",
    "\n",
    "#Figure for 2nd metric\n",
    "fig2 = px.pie(df,\n",
    "                         values= \"funded_amount\", \n",
    "                         names= \"purpose\", \n",
    "                         title =\"Funded Amount by purpose\")\n",
    "\n",
    "#Figure for 3rd metric\n",
    "tbl = round(\n",
    "    pd.crosstab(index = df['employment length'], \n",
    "            columns = df['duration months'],\n",
    "            margins = True,\n",
    "            margins_name = \"proportion of loan months\",\n",
    "            normalize = 'index'\n",
    "           ) * 100 \n",
    "    , 1)\n",
    "\n",
    "import plotly.graph_objects as go\n",
    "\n",
    "# Data initiation for figure\n",
    "data = []\n",
    "# For loop for x axis to create barchart data\n",
    "for x in tbl.columns:\n",
    "   data.append(go.Bar(name=str(x), x=tbl.index, y=tbl[x]))\n",
    "\n",
    "fig3 = go.Figure(data)"
   ]
  },
  {
   "cell_type": "code",
   "execution_count": 166,
   "metadata": {},
   "outputs": [],
   "source": [
    "app.layout = html.Div(children=[\n",
    "    # Chart element for top page\n",
    "    html.Div([\n",
    "        html.Div([\n",
    "            html.H1(children='Percentage Remaining Principal'),\n",
    "\n",
    "            html.Div(children='''\n",
    "                Description : ...\n",
    "            '''),\n",
    "\n",
    "            dcc.Graph(\n",
    "                id='graph1',\n",
    "                figure=fig1\n",
    "            ),  \n",
    "        ], className='six columns'),\n",
    "        html.Div([\n",
    "            html.H1(children='Funded Amount by Purpose'),\n",
    "\n",
    "            html.Div(children='''\n",
    "                Description : ...\n",
    "            '''),\n",
    "\n",
    "            dcc.Graph(\n",
    "                id='graph2',\n",
    "                figure=fig2\n",
    "            ),  \n",
    "        ], className='six columns'),\n",
    "    ], className='row'),\n",
    "    # Chart element for bottom page\n",
    "    html.Div([\n",
    "        html.H1(children='Employment Tenure and Loan Duration'),\n",
    "\n",
    "        html.Div(children='''\n",
    "            Description : ...\n",
    "        '''),\n",
    "\n",
    "        dcc.Graph(\n",
    "            id='graph3',\n",
    "            figure=fig3\n",
    "        ),  \n",
    "    ], className='row'),\n",
    "])"
   ]
  },
  {
   "cell_type": "code",
   "execution_count": 168,
   "metadata": {},
   "outputs": [
    {
     "name": "stdout",
     "output_type": "stream",
     "text": [
      "Dash is running on http://127.0.0.1:8050/\n",
      "\n",
      "Dash is running on http://127.0.0.1:8050/\n",
      "\n",
      "Dash is running on http://127.0.0.1:8050/\n",
      "\n",
      "Dash is running on http://127.0.0.1:8050/\n",
      "\n",
      " * Serving Flask app \"__main__\" (lazy loading)\n",
      " * Environment: production\n",
      "   WARNING: This is a development server. Do not use it in a production deployment.\n",
      "   Use a production WSGI server instead.\n",
      " * Debug mode: off\n"
     ]
    }
   ],
   "source": [
    "#Run local server\n",
    "if __name__ == '__main__':\n",
    "    app.run_server(debug=False)"
   ]
  },
  {
   "cell_type": "code",
   "execution_count": null,
   "metadata": {},
   "outputs": [],
   "source": []
  }
 ],
 "metadata": {
  "kernelspec": {
   "display_name": "Python 3",
   "language": "python",
   "name": "python3"
  },
  "language_info": {
   "codemirror_mode": {
    "name": "ipython",
    "version": 3
   },
   "file_extension": ".py",
   "mimetype": "text/x-python",
   "name": "python",
   "nbconvert_exporter": "python",
   "pygments_lexer": "ipython3",
   "version": "3.7.6"
  }
 },
 "nbformat": 4,
 "nbformat_minor": 4
}
